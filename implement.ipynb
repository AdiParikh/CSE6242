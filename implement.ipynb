{
  "nbformat": 4,
  "nbformat_minor": 0,
  "metadata": {
    "colab": {
      "name": "implement",
      "provenance": []
    },
    "kernelspec": {
      "name": "python3",
      "display_name": "Python 3"
    }
  },
  "cells": [
    {
      "cell_type": "code",
      "metadata": {
        "id": "Jm3rPxwYQDXz"
      },
      "source": [
        "import pandas as pd\n",
        "import numpy as np"
      ],
      "execution_count": 1,
      "outputs": []
    },
    {
      "cell_type": "code",
      "metadata": {
        "id": "xx68lVsZQ8Mj",
        "colab": {
          "base_uri": "https://localhost:8080/",
          "height": 315
        },
        "outputId": "471f149e-7bc8-46bf-87b7-a0e1bde0ebc9"
      },
      "source": [
        "from google.colab import drive \n",
        "drive.mount('/content/gdrive')\n",
        "df = pd.read_csv(\"gdrive/My Drive/BigDataBowl2021/plyrsWithTargets.csv\",\n",
        "                 index_col=0)\n",
        "df.head(3)"
      ],
      "execution_count": 2,
      "outputs": [
        {
          "output_type": "stream",
          "text": [
            "Mounted at /content/gdrive\n"
          ],
          "name": "stdout"
        },
        {
          "output_type": "stream",
          "text": [
            "/usr/local/lib/python3.6/dist-packages/numpy/lib/arraysetops.py:569: FutureWarning: elementwise comparison failed; returning scalar instead, but in the future will perform elementwise comparison\n",
            "  mask |= (ar1 == a)\n"
          ],
          "name": "stderr"
        },
        {
          "output_type": "execute_result",
          "data": {
            "text/html": [
              "<div>\n",
              "<style scoped>\n",
              "    .dataframe tbody tr th:only-of-type {\n",
              "        vertical-align: middle;\n",
              "    }\n",
              "\n",
              "    .dataframe tbody tr th {\n",
              "        vertical-align: top;\n",
              "    }\n",
              "\n",
              "    .dataframe thead th {\n",
              "        text-align: right;\n",
              "    }\n",
              "</style>\n",
              "<table border=\"1\" class=\"dataframe\">\n",
              "  <thead>\n",
              "    <tr style=\"text-align: right;\">\n",
              "      <th></th>\n",
              "      <th>gameId</th>\n",
              "      <th>playId</th>\n",
              "      <th>gameClock</th>\n",
              "      <th>defendersInTheBox</th>\n",
              "      <th>passResult</th>\n",
              "      <th>targetNflId</th>\n",
              "      <th>time</th>\n",
              "      <th>x</th>\n",
              "      <th>y</th>\n",
              "      <th>s</th>\n",
              "      <th>a</th>\n",
              "      <th>dis</th>\n",
              "      <th>event</th>\n",
              "      <th>epa</th>\n",
              "      <th>frameId</th>\n",
              "      <th>nflId</th>\n",
              "      <th>displayName</th>\n",
              "      <th>position</th>\n",
              "      <th>route</th>\n",
              "      <th>team</th>\n",
              "      <th>homeTeamAbbr</th>\n",
              "      <th>visitorTeamAbbr</th>\n",
              "      <th>targetedReceiver</th>\n",
              "      <th>team_name</th>\n",
              "      <th>qbX</th>\n",
              "      <th>qbY</th>\n",
              "      <th>distanceFromQB</th>\n",
              "      <th>angleToQB</th>\n",
              "    </tr>\n",
              "  </thead>\n",
              "  <tbody>\n",
              "    <tr>\n",
              "      <th>1</th>\n",
              "      <td>2018090600</td>\n",
              "      <td>75</td>\n",
              "      <td>15:00:00</td>\n",
              "      <td>7.0</td>\n",
              "      <td>C</td>\n",
              "      <td>2495454.0</td>\n",
              "      <td>2018-09-07 01:07:14</td>\n",
              "      <td>28.27</td>\n",
              "      <td>26.663333</td>\n",
              "      <td>0.00</td>\n",
              "      <td>0.01</td>\n",
              "      <td>0.02</td>\n",
              "      <td>None</td>\n",
              "      <td>0.261827</td>\n",
              "      <td>1</td>\n",
              "      <td>310</td>\n",
              "      <td>Matt Ryan</td>\n",
              "      <td>QB</td>\n",
              "      <td>NaN</td>\n",
              "      <td>away</td>\n",
              "      <td>PHI</td>\n",
              "      <td>ATL</td>\n",
              "      <td>0.0</td>\n",
              "      <td>ATL</td>\n",
              "      <td>28.27</td>\n",
              "      <td>26.663333</td>\n",
              "      <td>0.000000</td>\n",
              "      <td>0.000000</td>\n",
              "    </tr>\n",
              "    <tr>\n",
              "      <th>2</th>\n",
              "      <td>2018090600</td>\n",
              "      <td>75</td>\n",
              "      <td>15:00:00</td>\n",
              "      <td>7.0</td>\n",
              "      <td>C</td>\n",
              "      <td>2495454.0</td>\n",
              "      <td>2018-09-07 01:07:14</td>\n",
              "      <td>28.65</td>\n",
              "      <td>9.173333</td>\n",
              "      <td>0.02</td>\n",
              "      <td>0.03</td>\n",
              "      <td>0.01</td>\n",
              "      <td>None</td>\n",
              "      <td>0.261827</td>\n",
              "      <td>1</td>\n",
              "      <td>2495454</td>\n",
              "      <td>Julio Jones</td>\n",
              "      <td>WR</td>\n",
              "      <td>HITCH</td>\n",
              "      <td>away</td>\n",
              "      <td>PHI</td>\n",
              "      <td>ATL</td>\n",
              "      <td>1.0</td>\n",
              "      <td>ATL</td>\n",
              "      <td>28.27</td>\n",
              "      <td>26.663333</td>\n",
              "      <td>17.494128</td>\n",
              "      <td>-88.755379</td>\n",
              "    </tr>\n",
              "    <tr>\n",
              "      <th>3</th>\n",
              "      <td>2018090600</td>\n",
              "      <td>75</td>\n",
              "      <td>15:00:00</td>\n",
              "      <td>7.0</td>\n",
              "      <td>C</td>\n",
              "      <td>2495454.0</td>\n",
              "      <td>2018-09-07 01:07:14</td>\n",
              "      <td>29.22</td>\n",
              "      <td>17.183333</td>\n",
              "      <td>0.00</td>\n",
              "      <td>0.00</td>\n",
              "      <td>0.00</td>\n",
              "      <td>None</td>\n",
              "      <td>0.261827</td>\n",
              "      <td>1</td>\n",
              "      <td>2533040</td>\n",
              "      <td>Mohamed Sanu</td>\n",
              "      <td>WR</td>\n",
              "      <td>HITCH</td>\n",
              "      <td>away</td>\n",
              "      <td>PHI</td>\n",
              "      <td>ATL</td>\n",
              "      <td>0.0</td>\n",
              "      <td>ATL</td>\n",
              "      <td>28.27</td>\n",
              "      <td>26.663333</td>\n",
              "      <td>9.527481</td>\n",
              "      <td>-84.277469</td>\n",
              "    </tr>\n",
              "  </tbody>\n",
              "</table>\n",
              "</div>"
            ],
            "text/plain": [
              "       gameId  playId gameClock  ...        qbY distanceFromQB  angleToQB\n",
              "1  2018090600      75  15:00:00  ...  26.663333       0.000000   0.000000\n",
              "2  2018090600      75  15:00:00  ...  26.663333      17.494128 -88.755379\n",
              "3  2018090600      75  15:00:00  ...  26.663333       9.527481 -84.277469\n",
              "\n",
              "[3 rows x 28 columns]"
            ]
          },
          "metadata": {
            "tags": []
          },
          "execution_count": 2
        }
      ]
    },
    {
      "cell_type": "code",
      "metadata": {
        "id": "IaqLZ3WgN1F6",
        "colab": {
          "base_uri": "https://localhost:8080/",
          "height": 411
        },
        "outputId": "c5881468-602d-4112-9365-8ea664219ea7"
      },
      "source": [
        "openness_df = pd.read_pickle(\"gdrive/My Drive/BigDataBowl2021/all_weeks.pickle\")\n",
        "openness_df.head()"
      ],
      "execution_count": 3,
      "outputs": [
        {
          "output_type": "execute_result",
          "data": {
            "text/html": [
              "<div>\n",
              "<style scoped>\n",
              "    .dataframe tbody tr th:only-of-type {\n",
              "        vertical-align: middle;\n",
              "    }\n",
              "\n",
              "    .dataframe tbody tr th {\n",
              "        vertical-align: top;\n",
              "    }\n",
              "\n",
              "    .dataframe thead th {\n",
              "        text-align: right;\n",
              "    }\n",
              "</style>\n",
              "<table border=\"1\" class=\"dataframe\">\n",
              "  <thead>\n",
              "    <tr style=\"text-align: right;\">\n",
              "      <th></th>\n",
              "      <th>Unnamed: 0</th>\n",
              "      <th>time</th>\n",
              "      <th>x</th>\n",
              "      <th>y</th>\n",
              "      <th>s</th>\n",
              "      <th>a</th>\n",
              "      <th>dis</th>\n",
              "      <th>o</th>\n",
              "      <th>dir</th>\n",
              "      <th>event</th>\n",
              "      <th>nflId</th>\n",
              "      <th>displayName</th>\n",
              "      <th>jerseyNumber</th>\n",
              "      <th>position</th>\n",
              "      <th>frameId</th>\n",
              "      <th>team</th>\n",
              "      <th>gameId</th>\n",
              "      <th>playId</th>\n",
              "      <th>playDirection</th>\n",
              "      <th>route</th>\n",
              "      <th>eligible_receiver</th>\n",
              "      <th>is_defense</th>\n",
              "      <th>polygon</th>\n",
              "      <th>openness</th>\n",
              "    </tr>\n",
              "  </thead>\n",
              "  <tbody>\n",
              "    <tr>\n",
              "      <th>0</th>\n",
              "      <td>490</td>\n",
              "      <td>2018-09-07T01:07:18.099Z</td>\n",
              "      <td>96.43</td>\n",
              "      <td>26.78</td>\n",
              "      <td>0.84</td>\n",
              "      <td>2.05</td>\n",
              "      <td>0.08</td>\n",
              "      <td>356.40</td>\n",
              "      <td>333.39</td>\n",
              "      <td>pass_forward</td>\n",
              "      <td>310.0</td>\n",
              "      <td>Matt Ryan</td>\n",
              "      <td>2.0</td>\n",
              "      <td>QB</td>\n",
              "      <td>36</td>\n",
              "      <td>away</td>\n",
              "      <td>2018090600</td>\n",
              "      <td>75</td>\n",
              "      <td>left</td>\n",
              "      <td>NaN</td>\n",
              "      <td>False</td>\n",
              "      <td>False</td>\n",
              "      <td>None</td>\n",
              "      <td>NaN</td>\n",
              "    </tr>\n",
              "    <tr>\n",
              "      <th>1</th>\n",
              "      <td>491</td>\n",
              "      <td>2018-09-07T01:07:18.099Z</td>\n",
              "      <td>84.82</td>\n",
              "      <td>38.33</td>\n",
              "      <td>5.53</td>\n",
              "      <td>4.30</td>\n",
              "      <td>0.54</td>\n",
              "      <td>295.34</td>\n",
              "      <td>318.58</td>\n",
              "      <td>pass_forward</td>\n",
              "      <td>79848.0</td>\n",
              "      <td>Malcolm Jenkins</td>\n",
              "      <td>27.0</td>\n",
              "      <td>SS</td>\n",
              "      <td>36</td>\n",
              "      <td>home</td>\n",
              "      <td>2018090600</td>\n",
              "      <td>75</td>\n",
              "      <td>left</td>\n",
              "      <td>NaN</td>\n",
              "      <td>False</td>\n",
              "      <td>True</td>\n",
              "      <td>POLYGON ((84.64338696128041 35.50709230853111,...</td>\n",
              "      <td>NaN</td>\n",
              "    </tr>\n",
              "    <tr>\n",
              "      <th>2</th>\n",
              "      <td>492</td>\n",
              "      <td>2018-09-07T01:07:18.099Z</td>\n",
              "      <td>80.69</td>\n",
              "      <td>44.91</td>\n",
              "      <td>3.11</td>\n",
              "      <td>6.67</td>\n",
              "      <td>0.34</td>\n",
              "      <td>155.11</td>\n",
              "      <td>297.88</td>\n",
              "      <td>pass_forward</td>\n",
              "      <td>2495454.0</td>\n",
              "      <td>Julio Jones</td>\n",
              "      <td>11.0</td>\n",
              "      <td>WR</td>\n",
              "      <td>36</td>\n",
              "      <td>away</td>\n",
              "      <td>2018090600</td>\n",
              "      <td>75</td>\n",
              "      <td>left</td>\n",
              "      <td>HITCH</td>\n",
              "      <td>True</td>\n",
              "      <td>False</td>\n",
              "      <td>POLYGON ((81.52261524240826 42.20689958416092,...</td>\n",
              "      <td>0.847541</td>\n",
              "    </tr>\n",
              "    <tr>\n",
              "      <th>3</th>\n",
              "      <td>493</td>\n",
              "      <td>2018-09-07T01:07:18.099Z</td>\n",
              "      <td>86.02</td>\n",
              "      <td>18.64</td>\n",
              "      <td>3.52</td>\n",
              "      <td>0.69</td>\n",
              "      <td>0.35</td>\n",
              "      <td>28.19</td>\n",
              "      <td>216.15</td>\n",
              "      <td>pass_forward</td>\n",
              "      <td>2495613.0</td>\n",
              "      <td>Corey Graham</td>\n",
              "      <td>24.0</td>\n",
              "      <td>FS</td>\n",
              "      <td>36</td>\n",
              "      <td>home</td>\n",
              "      <td>2018090600</td>\n",
              "      <td>75</td>\n",
              "      <td>left</td>\n",
              "      <td>NaN</td>\n",
              "      <td>False</td>\n",
              "      <td>True</td>\n",
              "      <td>POLYGON ((88.8147532851782 19.07514833676076, ...</td>\n",
              "      <td>NaN</td>\n",
              "    </tr>\n",
              "    <tr>\n",
              "      <th>4</th>\n",
              "      <td>494</td>\n",
              "      <td>2018-09-07T01:07:18.099Z</td>\n",
              "      <td>82.65</td>\n",
              "      <td>34.56</td>\n",
              "      <td>6.35</td>\n",
              "      <td>1.21</td>\n",
              "      <td>0.64</td>\n",
              "      <td>262.06</td>\n",
              "      <td>272.78</td>\n",
              "      <td>pass_forward</td>\n",
              "      <td>2533040.0</td>\n",
              "      <td>Mohamed Sanu</td>\n",
              "      <td>12.0</td>\n",
              "      <td>WR</td>\n",
              "      <td>36</td>\n",
              "      <td>away</td>\n",
              "      <td>2018090600</td>\n",
              "      <td>75</td>\n",
              "      <td>left</td>\n",
              "      <td>HITCH</td>\n",
              "      <td>True</td>\n",
              "      <td>False</td>\n",
              "      <td>POLYGON ((84.55064402112779 32.4653515080207, ...</td>\n",
              "      <td>0.799221</td>\n",
              "    </tr>\n",
              "  </tbody>\n",
              "</table>\n",
              "</div>"
            ],
            "text/plain": [
              "   Unnamed: 0  ...  openness\n",
              "0         490  ...       NaN\n",
              "1         491  ...       NaN\n",
              "2         492  ...  0.847541\n",
              "3         493  ...       NaN\n",
              "4         494  ...  0.799221\n",
              "\n",
              "[5 rows x 24 columns]"
            ]
          },
          "metadata": {
            "tags": []
          },
          "execution_count": 3
        }
      ]
    },
    {
      "cell_type": "code",
      "metadata": {
        "id": "U7LHz7RuQh8s",
        "colab": {
          "base_uri": "https://localhost:8080/",
          "height": 204
        },
        "outputId": "8234c156-bb19-4527-fc7b-b8f6f4846f0c"
      },
      "source": [
        "# slim down openness ,df then merge\n",
        "openness_df = openness_df[['gameId', 'playId', 'frameId', 'nflId', 'displayName', 'openness']]\n",
        "openness_df.dropna(inplace=True)\n",
        "openness_df.nflId = openness_df.nflId.astype(int)\n",
        "openness_df.head()"
      ],
      "execution_count": 4,
      "outputs": [
        {
          "output_type": "execute_result",
          "data": {
            "text/html": [
              "<div>\n",
              "<style scoped>\n",
              "    .dataframe tbody tr th:only-of-type {\n",
              "        vertical-align: middle;\n",
              "    }\n",
              "\n",
              "    .dataframe tbody tr th {\n",
              "        vertical-align: top;\n",
              "    }\n",
              "\n",
              "    .dataframe thead th {\n",
              "        text-align: right;\n",
              "    }\n",
              "</style>\n",
              "<table border=\"1\" class=\"dataframe\">\n",
              "  <thead>\n",
              "    <tr style=\"text-align: right;\">\n",
              "      <th></th>\n",
              "      <th>gameId</th>\n",
              "      <th>playId</th>\n",
              "      <th>frameId</th>\n",
              "      <th>nflId</th>\n",
              "      <th>displayName</th>\n",
              "      <th>openness</th>\n",
              "    </tr>\n",
              "  </thead>\n",
              "  <tbody>\n",
              "    <tr>\n",
              "      <th>2</th>\n",
              "      <td>2018090600</td>\n",
              "      <td>75</td>\n",
              "      <td>36</td>\n",
              "      <td>2495454</td>\n",
              "      <td>Julio Jones</td>\n",
              "      <td>0.847541</td>\n",
              "    </tr>\n",
              "    <tr>\n",
              "      <th>4</th>\n",
              "      <td>2018090600</td>\n",
              "      <td>75</td>\n",
              "      <td>36</td>\n",
              "      <td>2533040</td>\n",
              "      <td>Mohamed Sanu</td>\n",
              "      <td>0.799221</td>\n",
              "    </tr>\n",
              "    <tr>\n",
              "      <th>6</th>\n",
              "      <td>2018090600</td>\n",
              "      <td>75</td>\n",
              "      <td>36</td>\n",
              "      <td>2543583</td>\n",
              "      <td>Devonta Freeman</td>\n",
              "      <td>1</td>\n",
              "    </tr>\n",
              "    <tr>\n",
              "      <th>10</th>\n",
              "      <td>2018090600</td>\n",
              "      <td>75</td>\n",
              "      <td>36</td>\n",
              "      <td>2555415</td>\n",
              "      <td>Austin Hooper</td>\n",
              "      <td>0.538622</td>\n",
              "    </tr>\n",
              "    <tr>\n",
              "      <th>12</th>\n",
              "      <td>2018090600</td>\n",
              "      <td>75</td>\n",
              "      <td>36</td>\n",
              "      <td>2559033</td>\n",
              "      <td>Ricky Ortiz</td>\n",
              "      <td>0.906936</td>\n",
              "    </tr>\n",
              "  </tbody>\n",
              "</table>\n",
              "</div>"
            ],
            "text/plain": [
              "        gameId  playId  frameId    nflId      displayName  openness\n",
              "2   2018090600      75       36  2495454      Julio Jones  0.847541\n",
              "4   2018090600      75       36  2533040     Mohamed Sanu  0.799221\n",
              "6   2018090600      75       36  2543583  Devonta Freeman         1\n",
              "10  2018090600      75       36  2555415    Austin Hooper  0.538622\n",
              "12  2018090600      75       36  2559033      Ricky Ortiz  0.906936"
            ]
          },
          "metadata": {
            "tags": []
          },
          "execution_count": 4
        }
      ]
    },
    {
      "cell_type": "code",
      "metadata": {
        "id": "c1yV5MZaQiGM",
        "colab": {
          "base_uri": "https://localhost:8080/",
          "height": 394
        },
        "outputId": "af967c5e-7dc5-42ab-ff7e-fa6ffbdc3f35"
      },
      "source": [
        "df = df.merge(openness_df,\n",
        "              how='left',\n",
        "              on=['gameId', 'playId', 'frameId', 'nflId', 'displayName'])\n",
        "df.head()"
      ],
      "execution_count": 5,
      "outputs": [
        {
          "output_type": "execute_result",
          "data": {
            "text/html": [
              "<div>\n",
              "<style scoped>\n",
              "    .dataframe tbody tr th:only-of-type {\n",
              "        vertical-align: middle;\n",
              "    }\n",
              "\n",
              "    .dataframe tbody tr th {\n",
              "        vertical-align: top;\n",
              "    }\n",
              "\n",
              "    .dataframe thead th {\n",
              "        text-align: right;\n",
              "    }\n",
              "</style>\n",
              "<table border=\"1\" class=\"dataframe\">\n",
              "  <thead>\n",
              "    <tr style=\"text-align: right;\">\n",
              "      <th></th>\n",
              "      <th>gameId</th>\n",
              "      <th>playId</th>\n",
              "      <th>gameClock</th>\n",
              "      <th>defendersInTheBox</th>\n",
              "      <th>passResult</th>\n",
              "      <th>targetNflId</th>\n",
              "      <th>time</th>\n",
              "      <th>x</th>\n",
              "      <th>y</th>\n",
              "      <th>s</th>\n",
              "      <th>a</th>\n",
              "      <th>dis</th>\n",
              "      <th>event</th>\n",
              "      <th>epa</th>\n",
              "      <th>frameId</th>\n",
              "      <th>nflId</th>\n",
              "      <th>displayName</th>\n",
              "      <th>position</th>\n",
              "      <th>route</th>\n",
              "      <th>team</th>\n",
              "      <th>homeTeamAbbr</th>\n",
              "      <th>visitorTeamAbbr</th>\n",
              "      <th>targetedReceiver</th>\n",
              "      <th>team_name</th>\n",
              "      <th>qbX</th>\n",
              "      <th>qbY</th>\n",
              "      <th>distanceFromQB</th>\n",
              "      <th>angleToQB</th>\n",
              "      <th>openness</th>\n",
              "    </tr>\n",
              "  </thead>\n",
              "  <tbody>\n",
              "    <tr>\n",
              "      <th>0</th>\n",
              "      <td>2018090600</td>\n",
              "      <td>75</td>\n",
              "      <td>15:00:00</td>\n",
              "      <td>7.0</td>\n",
              "      <td>C</td>\n",
              "      <td>2495454.0</td>\n",
              "      <td>2018-09-07 01:07:14</td>\n",
              "      <td>28.27</td>\n",
              "      <td>26.663333</td>\n",
              "      <td>0.00</td>\n",
              "      <td>0.01</td>\n",
              "      <td>0.02</td>\n",
              "      <td>None</td>\n",
              "      <td>0.261827</td>\n",
              "      <td>1</td>\n",
              "      <td>310</td>\n",
              "      <td>Matt Ryan</td>\n",
              "      <td>QB</td>\n",
              "      <td>NaN</td>\n",
              "      <td>away</td>\n",
              "      <td>PHI</td>\n",
              "      <td>ATL</td>\n",
              "      <td>0.0</td>\n",
              "      <td>ATL</td>\n",
              "      <td>28.27</td>\n",
              "      <td>26.663333</td>\n",
              "      <td>0.000000</td>\n",
              "      <td>0.000000</td>\n",
              "      <td>NaN</td>\n",
              "    </tr>\n",
              "    <tr>\n",
              "      <th>1</th>\n",
              "      <td>2018090600</td>\n",
              "      <td>75</td>\n",
              "      <td>15:00:00</td>\n",
              "      <td>7.0</td>\n",
              "      <td>C</td>\n",
              "      <td>2495454.0</td>\n",
              "      <td>2018-09-07 01:07:14</td>\n",
              "      <td>28.65</td>\n",
              "      <td>9.173333</td>\n",
              "      <td>0.02</td>\n",
              "      <td>0.03</td>\n",
              "      <td>0.01</td>\n",
              "      <td>None</td>\n",
              "      <td>0.261827</td>\n",
              "      <td>1</td>\n",
              "      <td>2495454</td>\n",
              "      <td>Julio Jones</td>\n",
              "      <td>WR</td>\n",
              "      <td>HITCH</td>\n",
              "      <td>away</td>\n",
              "      <td>PHI</td>\n",
              "      <td>ATL</td>\n",
              "      <td>1.0</td>\n",
              "      <td>ATL</td>\n",
              "      <td>28.27</td>\n",
              "      <td>26.663333</td>\n",
              "      <td>17.494128</td>\n",
              "      <td>-88.755379</td>\n",
              "      <td>NaN</td>\n",
              "    </tr>\n",
              "    <tr>\n",
              "      <th>2</th>\n",
              "      <td>2018090600</td>\n",
              "      <td>75</td>\n",
              "      <td>15:00:00</td>\n",
              "      <td>7.0</td>\n",
              "      <td>C</td>\n",
              "      <td>2495454.0</td>\n",
              "      <td>2018-09-07 01:07:14</td>\n",
              "      <td>29.22</td>\n",
              "      <td>17.183333</td>\n",
              "      <td>0.00</td>\n",
              "      <td>0.00</td>\n",
              "      <td>0.00</td>\n",
              "      <td>None</td>\n",
              "      <td>0.261827</td>\n",
              "      <td>1</td>\n",
              "      <td>2533040</td>\n",
              "      <td>Mohamed Sanu</td>\n",
              "      <td>WR</td>\n",
              "      <td>HITCH</td>\n",
              "      <td>away</td>\n",
              "      <td>PHI</td>\n",
              "      <td>ATL</td>\n",
              "      <td>0.0</td>\n",
              "      <td>ATL</td>\n",
              "      <td>28.27</td>\n",
              "      <td>26.663333</td>\n",
              "      <td>9.527481</td>\n",
              "      <td>-84.277469</td>\n",
              "      <td>NaN</td>\n",
              "    </tr>\n",
              "    <tr>\n",
              "      <th>3</th>\n",
              "      <td>2018090600</td>\n",
              "      <td>75</td>\n",
              "      <td>15:00:00</td>\n",
              "      <td>7.0</td>\n",
              "      <td>C</td>\n",
              "      <td>2495454.0</td>\n",
              "      <td>2018-09-07 01:07:14</td>\n",
              "      <td>21.75</td>\n",
              "      <td>26.703333</td>\n",
              "      <td>0.01</td>\n",
              "      <td>0.01</td>\n",
              "      <td>0.00</td>\n",
              "      <td>None</td>\n",
              "      <td>0.261827</td>\n",
              "      <td>1</td>\n",
              "      <td>2543583</td>\n",
              "      <td>Devonta Freeman</td>\n",
              "      <td>RB</td>\n",
              "      <td>NaN</td>\n",
              "      <td>away</td>\n",
              "      <td>PHI</td>\n",
              "      <td>ATL</td>\n",
              "      <td>0.0</td>\n",
              "      <td>ATL</td>\n",
              "      <td>28.27</td>\n",
              "      <td>26.663333</td>\n",
              "      <td>6.520123</td>\n",
              "      <td>-0.351504</td>\n",
              "      <td>NaN</td>\n",
              "    </tr>\n",
              "    <tr>\n",
              "      <th>4</th>\n",
              "      <td>2018090600</td>\n",
              "      <td>75</td>\n",
              "      <td>15:00:00</td>\n",
              "      <td>7.0</td>\n",
              "      <td>C</td>\n",
              "      <td>2495454.0</td>\n",
              "      <td>2018-09-07 01:07:14</td>\n",
              "      <td>28.71</td>\n",
              "      <td>31.503333</td>\n",
              "      <td>0.01</td>\n",
              "      <td>0.02</td>\n",
              "      <td>0.01</td>\n",
              "      <td>None</td>\n",
              "      <td>0.261827</td>\n",
              "      <td>1</td>\n",
              "      <td>2555415</td>\n",
              "      <td>Austin Hooper</td>\n",
              "      <td>TE</td>\n",
              "      <td>OUT</td>\n",
              "      <td>away</td>\n",
              "      <td>PHI</td>\n",
              "      <td>ATL</td>\n",
              "      <td>0.0</td>\n",
              "      <td>ATL</td>\n",
              "      <td>28.27</td>\n",
              "      <td>26.663333</td>\n",
              "      <td>4.859959</td>\n",
              "      <td>84.805601</td>\n",
              "      <td>NaN</td>\n",
              "    </tr>\n",
              "  </tbody>\n",
              "</table>\n",
              "</div>"
            ],
            "text/plain": [
              "       gameId  playId gameClock  ...  distanceFromQB  angleToQB  openness\n",
              "0  2018090600      75  15:00:00  ...        0.000000   0.000000       NaN\n",
              "1  2018090600      75  15:00:00  ...       17.494128 -88.755379       NaN\n",
              "2  2018090600      75  15:00:00  ...        9.527481 -84.277469       NaN\n",
              "3  2018090600      75  15:00:00  ...        6.520123  -0.351504       NaN\n",
              "4  2018090600      75  15:00:00  ...        4.859959  84.805601       NaN\n",
              "\n",
              "[5 rows x 29 columns]"
            ]
          },
          "metadata": {
            "tags": []
          },
          "execution_count": 5
        }
      ]
    },
    {
      "cell_type": "code",
      "metadata": {
        "id": "pyy3EcxRhKDV"
      },
      "source": [
        "# df = df[df.position != 'QB']"
      ],
      "execution_count": 6,
      "outputs": []
    },
    {
      "cell_type": "code",
      "metadata": {
        "id": "GDraNY9pP3od"
      },
      "source": [
        "dummies = pd.get_dummies(df.position, prefix='Position')\n",
        "df = pd.concat([df.reset_index(drop=True), dummies.reset_index(drop=True)], axis=1)"
      ],
      "execution_count": 7,
      "outputs": []
    },
    {
      "cell_type": "code",
      "metadata": {
        "id": "UEYdOH0KSCpq"
      },
      "source": [
        "# filter_df = df[(df.targetedReceiver == 1) & ((df.event == 'pass_outcome_caught') | (df.event == 'pass_outcome_incomplete') |\n",
        "#                                  (df.event == 'pass_outcome_interception') | (df.event == 'pass_outcome_touchdown'))]\n",
        "# filter_df.head()"
      ],
      "execution_count": 8,
      "outputs": []
    },
    {
      "cell_type": "code",
      "metadata": {
        "id": "tVknUMFbVg-k"
      },
      "source": [
        "# filter_df['roundAngle'] = round(filter_df.angleToQB, 0)\n",
        "# filter_df.head()"
      ],
      "execution_count": 9,
      "outputs": []
    },
    {
      "cell_type": "code",
      "metadata": {
        "id": "iT8Z9AkFVxGe"
      },
      "source": [
        "# round_angs = filter_df.groupby('roundAngle').agg({'epa':'mean'})\n",
        "# round_angs.reset_index(inplace=True)\n",
        "# round_angs.head()"
      ],
      "execution_count": 10,
      "outputs": []
    },
    {
      "cell_type": "code",
      "metadata": {
        "id": "DIrHkpRyUDMy"
      },
      "source": [
        "# from bokeh.plotting import figure, output_file, show, output_notebook\n",
        "# from bokeh.palettes import magma \n",
        "  \n",
        "# # file to save the model  \n",
        "# # output_file(\"gfg.html\")\n",
        "# output_notebook() \n",
        "       \n",
        "# # instantiating the figure object  \n",
        "# graph = figure(title = \"Relationship Between Receiver Angle to QB and EPA\")  \n",
        "  \n",
        "# # name of the x-axis  \n",
        "# graph.xaxis.axis_label = \"Angle to QB\"\n",
        "       \n",
        "# # name of the y-axis  \n",
        "# graph.yaxis.axis_label = \"Expected Points Addded\"\n",
        "\n",
        "# size = 10\n",
        "  \n",
        "# # plotting the graph  \n",
        "# graph.line(round_angs['roundAngle'],\n",
        "#               round_angs['epa'])  \n",
        "       \n",
        "# # displaying the model  \n",
        "# show(graph)"
      ],
      "execution_count": 11,
      "outputs": []
    },
    {
      "cell_type": "markdown",
      "metadata": {
        "id": "qMf9-qw_pb29"
      },
      "source": [
        "**Now implement xgboost for target probability**"
      ]
    },
    {
      "cell_type": "code",
      "metadata": {
        "id": "dEQuQZVvphCV",
        "colab": {
          "base_uri": "https://localhost:8080/"
        },
        "outputId": "388b456f-f900-4394-8e93-b510f9147ae5"
      },
      "source": [
        "df['event'].unique()"
      ],
      "execution_count": 12,
      "outputs": [
        {
          "output_type": "execute_result",
          "data": {
            "text/plain": [
              "array(['None', 'ball_snap', 'pass_forward', 'pass_arrived',\n",
              "       'pass_outcome_caught', 'out_of_bounds', 'pass_outcome_incomplete',\n",
              "       'first_contact', 'tackle', 'man_in_motion', 'play_action',\n",
              "       'qb_sack', 'fumble', 'fumble_offense_recovered', 'handoff',\n",
              "       'pass_tipped', 'pass_outcome_interception', 'qb_strip_sack',\n",
              "       'pass_shovel', 'line_set', 'pass_outcome_touchdown',\n",
              "       'fumble_defense_recovered', 'qb_spike', 'touchdown',\n",
              "       'penalty_flag', 'shift', 'run', 'touchback', 'penalty_accepted',\n",
              "       'field_goal_blocked', 'run_pass_option', 'punt_fake',\n",
              "       'snap_direct', 'pass_lateral', 'lateral', 'huddle_start_offense',\n",
              "       'huddle_break_offense', 'field_goal_fake', 'timeout_home',\n",
              "       'safety', 'field_goal_play'], dtype=object)"
            ]
          },
          "metadata": {
            "tags": []
          },
          "execution_count": 12
        }
      ]
    },
    {
      "cell_type": "markdown",
      "metadata": {
        "id": "5NmdxU7JtjsV"
      },
      "source": [
        "When thinking about this target probability model... the only instantaneous moment we need to evaluate would be the moment in which the pass is arriving OR the moment the pass is released (ie when the QB chose to make the throw), right?\n",
        "\n",
        "Bc the split second where that event occurs is far more important than the first 3 steps off the line (not saying those aren't important to getting there) but we only need to know what happening exactly when the target is being earned.\n",
        "\n",
        "Account for distance from other receivers on same play, this adds more context to the moment.\n",
        "\n",
        "FE: \n",
        "\n",
        "- need to get distance to nearest defender(s). Is there a mathematical function I can use to weight one really close defender and one far away to account for possible double coverages? Or, just make it 2 columns.\n",
        "\n",
        "- should do something with player orientation and direction of motion given we evened out the field, relative to the QB and in general\n",
        "\n",
        "- angular direction i.e. speed in x and y\n",
        "- Number of eligible receivers on field for that play"
      ]
    },
    {
      "cell_type": "code",
      "metadata": {
        "id": "rIE4WBlVqPpm",
        "colab": {
          "base_uri": "https://localhost:8080/",
          "height": 394
        },
        "outputId": "322dd7ca-c8ba-4173-aef9-4a54113b9831"
      },
      "source": [
        "filter_df = df[df.event == 'pass_forward']\n",
        "filter_df.head()"
      ],
      "execution_count": 13,
      "outputs": [
        {
          "output_type": "execute_result",
          "data": {
            "text/html": [
              "<div>\n",
              "<style scoped>\n",
              "    .dataframe tbody tr th:only-of-type {\n",
              "        vertical-align: middle;\n",
              "    }\n",
              "\n",
              "    .dataframe tbody tr th {\n",
              "        vertical-align: top;\n",
              "    }\n",
              "\n",
              "    .dataframe thead th {\n",
              "        text-align: right;\n",
              "    }\n",
              "</style>\n",
              "<table border=\"1\" class=\"dataframe\">\n",
              "  <thead>\n",
              "    <tr style=\"text-align: right;\">\n",
              "      <th></th>\n",
              "      <th>gameId</th>\n",
              "      <th>playId</th>\n",
              "      <th>gameClock</th>\n",
              "      <th>defendersInTheBox</th>\n",
              "      <th>passResult</th>\n",
              "      <th>targetNflId</th>\n",
              "      <th>time</th>\n",
              "      <th>x</th>\n",
              "      <th>y</th>\n",
              "      <th>s</th>\n",
              "      <th>a</th>\n",
              "      <th>dis</th>\n",
              "      <th>event</th>\n",
              "      <th>epa</th>\n",
              "      <th>frameId</th>\n",
              "      <th>nflId</th>\n",
              "      <th>displayName</th>\n",
              "      <th>position</th>\n",
              "      <th>route</th>\n",
              "      <th>team</th>\n",
              "      <th>homeTeamAbbr</th>\n",
              "      <th>visitorTeamAbbr</th>\n",
              "      <th>targetedReceiver</th>\n",
              "      <th>team_name</th>\n",
              "      <th>qbX</th>\n",
              "      <th>qbY</th>\n",
              "      <th>distanceFromQB</th>\n",
              "      <th>angleToQB</th>\n",
              "      <th>openness</th>\n",
              "      <th>Position_FB</th>\n",
              "      <th>Position_HB</th>\n",
              "      <th>Position_QB</th>\n",
              "      <th>Position_RB</th>\n",
              "      <th>Position_TE</th>\n",
              "      <th>Position_WR</th>\n",
              "    </tr>\n",
              "  </thead>\n",
              "  <tbody>\n",
              "    <tr>\n",
              "      <th>210</th>\n",
              "      <td>2018090600</td>\n",
              "      <td>75</td>\n",
              "      <td>15:00:00</td>\n",
              "      <td>7.0</td>\n",
              "      <td>C</td>\n",
              "      <td>2495454.0</td>\n",
              "      <td>2018-09-07 01:07:18</td>\n",
              "      <td>23.57</td>\n",
              "      <td>26.553333</td>\n",
              "      <td>0.84</td>\n",
              "      <td>2.05</td>\n",
              "      <td>0.08</td>\n",
              "      <td>pass_forward</td>\n",
              "      <td>0.261827</td>\n",
              "      <td>36</td>\n",
              "      <td>310</td>\n",
              "      <td>Matt Ryan</td>\n",
              "      <td>QB</td>\n",
              "      <td>NaN</td>\n",
              "      <td>away</td>\n",
              "      <td>PHI</td>\n",
              "      <td>ATL</td>\n",
              "      <td>0.0</td>\n",
              "      <td>ATL</td>\n",
              "      <td>23.57</td>\n",
              "      <td>26.553333</td>\n",
              "      <td>0.000000</td>\n",
              "      <td>0.000000</td>\n",
              "      <td>NaN</td>\n",
              "      <td>0</td>\n",
              "      <td>0</td>\n",
              "      <td>1</td>\n",
              "      <td>0</td>\n",
              "      <td>0</td>\n",
              "      <td>0</td>\n",
              "    </tr>\n",
              "    <tr>\n",
              "      <th>211</th>\n",
              "      <td>2018090600</td>\n",
              "      <td>75</td>\n",
              "      <td>15:00:00</td>\n",
              "      <td>7.0</td>\n",
              "      <td>C</td>\n",
              "      <td>2495454.0</td>\n",
              "      <td>2018-09-07 01:07:18</td>\n",
              "      <td>39.31</td>\n",
              "      <td>8.423333</td>\n",
              "      <td>3.11</td>\n",
              "      <td>6.67</td>\n",
              "      <td>0.34</td>\n",
              "      <td>pass_forward</td>\n",
              "      <td>0.261827</td>\n",
              "      <td>36</td>\n",
              "      <td>2495454</td>\n",
              "      <td>Julio Jones</td>\n",
              "      <td>WR</td>\n",
              "      <td>HITCH</td>\n",
              "      <td>away</td>\n",
              "      <td>PHI</td>\n",
              "      <td>ATL</td>\n",
              "      <td>1.0</td>\n",
              "      <td>ATL</td>\n",
              "      <td>23.57</td>\n",
              "      <td>26.553333</td>\n",
              "      <td>24.009259</td>\n",
              "      <td>-49.036342</td>\n",
              "      <td>0.847541</td>\n",
              "      <td>0</td>\n",
              "      <td>0</td>\n",
              "      <td>0</td>\n",
              "      <td>0</td>\n",
              "      <td>0</td>\n",
              "      <td>1</td>\n",
              "    </tr>\n",
              "    <tr>\n",
              "      <th>212</th>\n",
              "      <td>2018090600</td>\n",
              "      <td>75</td>\n",
              "      <td>15:00:00</td>\n",
              "      <td>7.0</td>\n",
              "      <td>C</td>\n",
              "      <td>2495454.0</td>\n",
              "      <td>2018-09-07 01:07:18</td>\n",
              "      <td>37.35</td>\n",
              "      <td>18.773333</td>\n",
              "      <td>6.35</td>\n",
              "      <td>1.21</td>\n",
              "      <td>0.64</td>\n",
              "      <td>pass_forward</td>\n",
              "      <td>0.261827</td>\n",
              "      <td>36</td>\n",
              "      <td>2533040</td>\n",
              "      <td>Mohamed Sanu</td>\n",
              "      <td>WR</td>\n",
              "      <td>HITCH</td>\n",
              "      <td>away</td>\n",
              "      <td>PHI</td>\n",
              "      <td>ATL</td>\n",
              "      <td>0.0</td>\n",
              "      <td>ATL</td>\n",
              "      <td>23.57</td>\n",
              "      <td>26.553333</td>\n",
              "      <td>15.824563</td>\n",
              "      <td>-29.448491</td>\n",
              "      <td>0.799221</td>\n",
              "      <td>0</td>\n",
              "      <td>0</td>\n",
              "      <td>0</td>\n",
              "      <td>0</td>\n",
              "      <td>0</td>\n",
              "      <td>1</td>\n",
              "    </tr>\n",
              "    <tr>\n",
              "      <th>213</th>\n",
              "      <td>2018090600</td>\n",
              "      <td>75</td>\n",
              "      <td>15:00:00</td>\n",
              "      <td>7.0</td>\n",
              "      <td>C</td>\n",
              "      <td>2495454.0</td>\n",
              "      <td>2018-09-07 01:07:18</td>\n",
              "      <td>26.19</td>\n",
              "      <td>26.033333</td>\n",
              "      <td>3.92</td>\n",
              "      <td>3.23</td>\n",
              "      <td>0.39</td>\n",
              "      <td>pass_forward</td>\n",
              "      <td>0.261827</td>\n",
              "      <td>36</td>\n",
              "      <td>2543583</td>\n",
              "      <td>Devonta Freeman</td>\n",
              "      <td>RB</td>\n",
              "      <td>NaN</td>\n",
              "      <td>away</td>\n",
              "      <td>PHI</td>\n",
              "      <td>ATL</td>\n",
              "      <td>0.0</td>\n",
              "      <td>ATL</td>\n",
              "      <td>23.57</td>\n",
              "      <td>26.553333</td>\n",
              "      <td>2.671105</td>\n",
              "      <td>-11.225802</td>\n",
              "      <td>1</td>\n",
              "      <td>0</td>\n",
              "      <td>0</td>\n",
              "      <td>0</td>\n",
              "      <td>1</td>\n",
              "      <td>0</td>\n",
              "      <td>0</td>\n",
              "    </tr>\n",
              "    <tr>\n",
              "      <th>214</th>\n",
              "      <td>2018090600</td>\n",
              "      <td>75</td>\n",
              "      <td>15:00:00</td>\n",
              "      <td>7.0</td>\n",
              "      <td>C</td>\n",
              "      <td>2495454.0</td>\n",
              "      <td>2018-09-07 01:07:18</td>\n",
              "      <td>36.80</td>\n",
              "      <td>31.973333</td>\n",
              "      <td>6.21</td>\n",
              "      <td>2.68</td>\n",
              "      <td>0.62</td>\n",
              "      <td>pass_forward</td>\n",
              "      <td>0.261827</td>\n",
              "      <td>36</td>\n",
              "      <td>2555415</td>\n",
              "      <td>Austin Hooper</td>\n",
              "      <td>TE</td>\n",
              "      <td>OUT</td>\n",
              "      <td>away</td>\n",
              "      <td>PHI</td>\n",
              "      <td>ATL</td>\n",
              "      <td>0.0</td>\n",
              "      <td>ATL</td>\n",
              "      <td>23.57</td>\n",
              "      <td>26.553333</td>\n",
              "      <td>14.297178</td>\n",
              "      <td>22.277693</td>\n",
              "      <td>0.538622</td>\n",
              "      <td>0</td>\n",
              "      <td>0</td>\n",
              "      <td>0</td>\n",
              "      <td>0</td>\n",
              "      <td>1</td>\n",
              "      <td>0</td>\n",
              "    </tr>\n",
              "  </tbody>\n",
              "</table>\n",
              "</div>"
            ],
            "text/plain": [
              "         gameId  playId gameClock  ...  Position_RB Position_TE  Position_WR\n",
              "210  2018090600      75  15:00:00  ...            0           0            0\n",
              "211  2018090600      75  15:00:00  ...            0           0            1\n",
              "212  2018090600      75  15:00:00  ...            0           0            1\n",
              "213  2018090600      75  15:00:00  ...            1           0            0\n",
              "214  2018090600      75  15:00:00  ...            0           1            0\n",
              "\n",
              "[5 rows x 35 columns]"
            ]
          },
          "metadata": {
            "tags": []
          },
          "execution_count": 13
        }
      ]
    },
    {
      "cell_type": "code",
      "metadata": {
        "id": "IDhlWABUJMkb"
      },
      "source": [
        "filter_df = filter_df[filter_df.targetedReceiver >= 0]"
      ],
      "execution_count": 14,
      "outputs": []
    },
    {
      "cell_type": "code",
      "metadata": {
        "id": "nYGGY3sNwX5U"
      },
      "source": [
        "filter_df.targetedReceiver = filter_df.targetedReceiver.astype(int)"
      ],
      "execution_count": 15,
      "outputs": []
    },
    {
      "cell_type": "code",
      "metadata": {
        "id": "7w7tgTF7yEwQ"
      },
      "source": [
        "from sklearn.model_selection import cross_val_score, GridSearchCV, cross_validate, train_test_split\n",
        "from sklearn.metrics import accuracy_score, classification_report, precision_score, recall_score, plot_precision_recall_curve, plot_roc_curve\n",
        "from sklearn.ensemble import RandomForestClassifier"
      ],
      "execution_count": 16,
      "outputs": []
    },
    {
      "cell_type": "code",
      "metadata": {
        "id": "4DWXqrgY6qEY"
      },
      "source": [
        "class RFClassifier():\n",
        "    \n",
        "    # points [2]\n",
        "    def randomForestClassifier(self, x_train, y_train, x_test=None):\n",
        "        # TODO: Create a RandomForestClassifier and train it. Set Random state to 614.\n",
        "        # args: pandas dataframe, pandas dataframe, pandas series\n",
        "        # return: RandomForestClassifier object, numpy array, numpy array\n",
        "        # -------------------------------\n",
        "        rf_clf = RandomForestClassifier(random_state=614)\n",
        "        rf_clf.fit(x_train, y_train)\n",
        "        y_predict_train = rf_clf.predict_proba(x_train)\n",
        "        y_predict_train = np.array(y_predict_train)\n",
        "        y_predict_test = None\n",
        "        if type(x_test) != type(None):\n",
        "          y_predict_test = rf_clf.predict_proba(x_test)\n",
        "          y_predict_test = np.array(y_predict_test)\n",
        "        # -------------------------------\n",
        "        return rf_clf,y_predict_train, y_predict_test\n",
        "    \n",
        "    # points [1]\n",
        "    def rfTrainAccuracy(self,y_train,y_predict_train):\n",
        "        # TODO: Return accuracy on the training set using the accuracy_score method.\n",
        "        # args: pandas series, numpy array\n",
        "        # return: float\n",
        "        # -------------------------------\n",
        "        y_predict_train = np.rint(y_predict_train)\n",
        "        train_accuracy = accuracy_score(y_train, y_predict_train)\n",
        "        # -------------------------------\n",
        "        return train_accuracy\n",
        "    \n",
        "    # points [1]\n",
        "    def rfTestAccuracy(self,y_test,y_predict_test):\n",
        "        # TODO: Return accuracy on the test set using the accuracy_score method.\n",
        "        # args: pandas series, numpy array\n",
        "        # return: float\n",
        "        # -------------------------------\n",
        "        y_predict_test = np.rint(y_predict_test)\n",
        "        test_accuracy = accuracy_score(y_test, y_predict_test)\n",
        "        # -------------------------------\n",
        "        return test_accuracy\n",
        "    \n",
        "# Q3.3.1 Feature Importance\n",
        "    \n",
        "    # points [1]\n",
        "    def rfFeatureImportance(self,rf_clf):\n",
        "        # TODO: Determine the feature importance as evaluated by the Random Forest Classifier.\n",
        "        # args: RandomForestClassifier object\n",
        "        # return: float array\n",
        "        # -------------------------------\n",
        "        # ADD CODE HERE\n",
        "        feature_importance = rf_clf.feature_importances_\n",
        "        # std = np.std([tree.feature_importances_ for tree in rf_clf.estimators_],\n",
        "        #      axis=0)\n",
        "        # indices = np.argsort(importances)[::-1]\n",
        "        # -------------------------------\n",
        "        return feature_importance\n",
        "    \n",
        "    # points [1]\n",
        "    def sortedRFFeatureImportanceIndicies(self,rf_clf):\n",
        "        # TODO: Sort them in the ascending order and return the feature numbers[0 to ...].\n",
        "        #       Hint: There is a direct function available in sklearn to achieve this. Also checkout argsort() function in Python.\n",
        "        # args: RandomForestClassifier object\n",
        "        # return: int array\n",
        "        # -------------------------------\n",
        "        importances = rf_clf.feature_importances_\n",
        "\n",
        "        sorted_indices = np.argsort(importances)[::-1]\n",
        "        # -------------------------------\n",
        "        return sorted_indices\n",
        "    \n",
        "# Q3.3.2 Hyper-parameter Tuning\n",
        "\n",
        "    # points [2]\n",
        "    def hyperParameterTuning(self,rf_clf,x_train,y_train):\n",
        "        # TODO: Tune the hyper-parameters 'n_estimators' and 'max_depth'.\n",
        "        # args: RandomForestClassifier object, pandas dataframe, pandas series\n",
        "        # return: GridSearchCV object\n",
        "        # 'n_estimators': [4, 16, 256]\n",
        "        # 'max_depth': [2, 8, 16]\n",
        "        # -------------------------------\n",
        "        parameters = { \n",
        "            'n_estimators': [50, 100, 250, 500],\n",
        "            'max_features': ['auto', 'sqrt', 'log2'],\n",
        "            'max_depth' : [4,5,6,7,8],\n",
        "            'criterion' : ['gini', 'entropy']\n",
        "            }\n",
        "        gscv_rfc = GridSearchCV(rf_clf, parameters)\n",
        "        gscv_rfc.fit(x_train, y_train)\n",
        "        # -------------------------------\n",
        "        return gscv_rfc\n",
        "    \n",
        "    # points [1]\n",
        "    def bestParams(self,gscv_rfc):\n",
        "        # TODO: Get the best params, using .best_params_\n",
        "        # args:  GridSearchCV object\n",
        "        # return: parameter dict\n",
        "        # -------------------------------\n",
        "        best_params = gscv_rfc.best_params_\n",
        "        # -------------------------------\n",
        "        return best_params\n",
        "    \n",
        "    # points [1]\n",
        "    def bestScore(self,gscv_rfc):\n",
        "        # TODO: Get the best score, using .best_score_.\n",
        "        # args: GridSearchCV object\n",
        "        # return: float\n",
        "        # -------------------------------\n",
        "        best_score = gscv_rfc.best_score_\n",
        "        # -------------------------------\n",
        "        return best_score"
      ],
      "execution_count": 17,
      "outputs": []
    },
    {
      "cell_type": "code",
      "metadata": {
        "id": "nHbS94urAJBO"
      },
      "source": [
        "def trainSets(x_data,y_data):\n",
        "  # Split 70% of the data into training and 30% into test sets. Call them x_train, x_test, y_train and y_test.\n",
        "  # Use the train_test_split method in sklearn with the parameter 'shuffle' set to true and the 'random_state' set to 614.\n",
        "  # args: pandas dataframe, pandas dataframe\n",
        "  # return: pandas dataframe, pandas dataframe, pandas series, pandas series\n",
        "  # -------------------------------\n",
        "  x_train, x_test, y_train, y_test = train_test_split(\n",
        "      x_data, y_data,\n",
        "      test_size=0.3, train_size=.7,\n",
        "      random_state=614, shuffle=True)\n",
        "  # -------------------------------\n",
        "  return x_train, x_test, y_train, y_test"
      ],
      "execution_count": 18,
      "outputs": []
    },
    {
      "cell_type": "markdown",
      "metadata": {
        "id": "SqovExeTJ4pb"
      },
      "source": [
        "Steps:\n",
        "\n",
        "1. Get only predictor columns and response set up\n",
        "2. Train model\n",
        "3. Test model on entire (column-filtered) df ( issue of perfect prediction should be rectified because the predictions don't = 1, 0 in prior predictions )\n",
        "4. 'Join' back on data needed to compute summary statistics\n"
      ]
    },
    {
      "cell_type": "code",
      "metadata": {
        "id": "t7PT2kuDLD82",
        "colab": {
          "base_uri": "https://localhost:8080/",
          "height": 394
        },
        "outputId": "5722f801-dc6a-4b9f-c4ff-94ec358120b6"
      },
      "source": [
        "filter_df = filter_df[filter_df.position != 'QB']\n",
        "filter_df.dropna(inplace=True)\n",
        "filter_df.head()"
      ],
      "execution_count": 19,
      "outputs": [
        {
          "output_type": "execute_result",
          "data": {
            "text/html": [
              "<div>\n",
              "<style scoped>\n",
              "    .dataframe tbody tr th:only-of-type {\n",
              "        vertical-align: middle;\n",
              "    }\n",
              "\n",
              "    .dataframe tbody tr th {\n",
              "        vertical-align: top;\n",
              "    }\n",
              "\n",
              "    .dataframe thead th {\n",
              "        text-align: right;\n",
              "    }\n",
              "</style>\n",
              "<table border=\"1\" class=\"dataframe\">\n",
              "  <thead>\n",
              "    <tr style=\"text-align: right;\">\n",
              "      <th></th>\n",
              "      <th>gameId</th>\n",
              "      <th>playId</th>\n",
              "      <th>gameClock</th>\n",
              "      <th>defendersInTheBox</th>\n",
              "      <th>passResult</th>\n",
              "      <th>targetNflId</th>\n",
              "      <th>time</th>\n",
              "      <th>x</th>\n",
              "      <th>y</th>\n",
              "      <th>s</th>\n",
              "      <th>a</th>\n",
              "      <th>dis</th>\n",
              "      <th>event</th>\n",
              "      <th>epa</th>\n",
              "      <th>frameId</th>\n",
              "      <th>nflId</th>\n",
              "      <th>displayName</th>\n",
              "      <th>position</th>\n",
              "      <th>route</th>\n",
              "      <th>team</th>\n",
              "      <th>homeTeamAbbr</th>\n",
              "      <th>visitorTeamAbbr</th>\n",
              "      <th>targetedReceiver</th>\n",
              "      <th>team_name</th>\n",
              "      <th>qbX</th>\n",
              "      <th>qbY</th>\n",
              "      <th>distanceFromQB</th>\n",
              "      <th>angleToQB</th>\n",
              "      <th>openness</th>\n",
              "      <th>Position_FB</th>\n",
              "      <th>Position_HB</th>\n",
              "      <th>Position_QB</th>\n",
              "      <th>Position_RB</th>\n",
              "      <th>Position_TE</th>\n",
              "      <th>Position_WR</th>\n",
              "    </tr>\n",
              "  </thead>\n",
              "  <tbody>\n",
              "    <tr>\n",
              "      <th>211</th>\n",
              "      <td>2018090600</td>\n",
              "      <td>75</td>\n",
              "      <td>15:00:00</td>\n",
              "      <td>7.0</td>\n",
              "      <td>C</td>\n",
              "      <td>2495454.0</td>\n",
              "      <td>2018-09-07 01:07:18</td>\n",
              "      <td>39.31</td>\n",
              "      <td>8.423333</td>\n",
              "      <td>3.11</td>\n",
              "      <td>6.67</td>\n",
              "      <td>0.34</td>\n",
              "      <td>pass_forward</td>\n",
              "      <td>0.261827</td>\n",
              "      <td>36</td>\n",
              "      <td>2495454</td>\n",
              "      <td>Julio Jones</td>\n",
              "      <td>WR</td>\n",
              "      <td>HITCH</td>\n",
              "      <td>away</td>\n",
              "      <td>PHI</td>\n",
              "      <td>ATL</td>\n",
              "      <td>1</td>\n",
              "      <td>ATL</td>\n",
              "      <td>23.57</td>\n",
              "      <td>26.553333</td>\n",
              "      <td>24.009259</td>\n",
              "      <td>-49.036342</td>\n",
              "      <td>0.847541</td>\n",
              "      <td>0</td>\n",
              "      <td>0</td>\n",
              "      <td>0</td>\n",
              "      <td>0</td>\n",
              "      <td>0</td>\n",
              "      <td>1</td>\n",
              "    </tr>\n",
              "    <tr>\n",
              "      <th>212</th>\n",
              "      <td>2018090600</td>\n",
              "      <td>75</td>\n",
              "      <td>15:00:00</td>\n",
              "      <td>7.0</td>\n",
              "      <td>C</td>\n",
              "      <td>2495454.0</td>\n",
              "      <td>2018-09-07 01:07:18</td>\n",
              "      <td>37.35</td>\n",
              "      <td>18.773333</td>\n",
              "      <td>6.35</td>\n",
              "      <td>1.21</td>\n",
              "      <td>0.64</td>\n",
              "      <td>pass_forward</td>\n",
              "      <td>0.261827</td>\n",
              "      <td>36</td>\n",
              "      <td>2533040</td>\n",
              "      <td>Mohamed Sanu</td>\n",
              "      <td>WR</td>\n",
              "      <td>HITCH</td>\n",
              "      <td>away</td>\n",
              "      <td>PHI</td>\n",
              "      <td>ATL</td>\n",
              "      <td>0</td>\n",
              "      <td>ATL</td>\n",
              "      <td>23.57</td>\n",
              "      <td>26.553333</td>\n",
              "      <td>15.824563</td>\n",
              "      <td>-29.448491</td>\n",
              "      <td>0.799221</td>\n",
              "      <td>0</td>\n",
              "      <td>0</td>\n",
              "      <td>0</td>\n",
              "      <td>0</td>\n",
              "      <td>0</td>\n",
              "      <td>1</td>\n",
              "    </tr>\n",
              "    <tr>\n",
              "      <th>214</th>\n",
              "      <td>2018090600</td>\n",
              "      <td>75</td>\n",
              "      <td>15:00:00</td>\n",
              "      <td>7.0</td>\n",
              "      <td>C</td>\n",
              "      <td>2495454.0</td>\n",
              "      <td>2018-09-07 01:07:18</td>\n",
              "      <td>36.80</td>\n",
              "      <td>31.973333</td>\n",
              "      <td>6.21</td>\n",
              "      <td>2.68</td>\n",
              "      <td>0.62</td>\n",
              "      <td>pass_forward</td>\n",
              "      <td>0.261827</td>\n",
              "      <td>36</td>\n",
              "      <td>2555415</td>\n",
              "      <td>Austin Hooper</td>\n",
              "      <td>TE</td>\n",
              "      <td>OUT</td>\n",
              "      <td>away</td>\n",
              "      <td>PHI</td>\n",
              "      <td>ATL</td>\n",
              "      <td>0</td>\n",
              "      <td>ATL</td>\n",
              "      <td>23.57</td>\n",
              "      <td>26.553333</td>\n",
              "      <td>14.297178</td>\n",
              "      <td>22.277693</td>\n",
              "      <td>0.538622</td>\n",
              "      <td>0</td>\n",
              "      <td>0</td>\n",
              "      <td>0</td>\n",
              "      <td>0</td>\n",
              "      <td>1</td>\n",
              "      <td>0</td>\n",
              "    </tr>\n",
              "    <tr>\n",
              "      <th>215</th>\n",
              "      <td>2018090600</td>\n",
              "      <td>75</td>\n",
              "      <td>15:00:00</td>\n",
              "      <td>7.0</td>\n",
              "      <td>C</td>\n",
              "      <td>2495454.0</td>\n",
              "      <td>2018-09-07 01:07:18</td>\n",
              "      <td>30.38</td>\n",
              "      <td>34.943333</td>\n",
              "      <td>6.75</td>\n",
              "      <td>1.51</td>\n",
              "      <td>0.67</td>\n",
              "      <td>pass_forward</td>\n",
              "      <td>0.261827</td>\n",
              "      <td>36</td>\n",
              "      <td>2559033</td>\n",
              "      <td>Ricky Ortiz</td>\n",
              "      <td>FB</td>\n",
              "      <td>FLAT</td>\n",
              "      <td>away</td>\n",
              "      <td>PHI</td>\n",
              "      <td>ATL</td>\n",
              "      <td>0</td>\n",
              "      <td>ATL</td>\n",
              "      <td>23.57</td>\n",
              "      <td>26.553333</td>\n",
              "      <td>10.805934</td>\n",
              "      <td>50.934451</td>\n",
              "      <td>0.906936</td>\n",
              "      <td>1</td>\n",
              "      <td>0</td>\n",
              "      <td>0</td>\n",
              "      <td>0</td>\n",
              "      <td>0</td>\n",
              "      <td>0</td>\n",
              "    </tr>\n",
              "    <tr>\n",
              "      <th>535</th>\n",
              "      <td>2018090600</td>\n",
              "      <td>146</td>\n",
              "      <td>13:10:00</td>\n",
              "      <td>7.0</td>\n",
              "      <td>I</td>\n",
              "      <td>2560854.0</td>\n",
              "      <td>2018-09-07 01:09:12</td>\n",
              "      <td>64.06</td>\n",
              "      <td>27.053333</td>\n",
              "      <td>3.30</td>\n",
              "      <td>0.16</td>\n",
              "      <td>0.33</td>\n",
              "      <td>pass_forward</td>\n",
              "      <td>-0.372360</td>\n",
              "      <td>31</td>\n",
              "      <td>2543583</td>\n",
              "      <td>Devonta Freeman</td>\n",
              "      <td>RB</td>\n",
              "      <td>FLAT</td>\n",
              "      <td>away</td>\n",
              "      <td>PHI</td>\n",
              "      <td>ATL</td>\n",
              "      <td>0</td>\n",
              "      <td>ATL</td>\n",
              "      <td>66.12</td>\n",
              "      <td>23.613333</td>\n",
              "      <td>4.009638</td>\n",
              "      <td>-59.085277</td>\n",
              "      <td>1</td>\n",
              "      <td>0</td>\n",
              "      <td>0</td>\n",
              "      <td>0</td>\n",
              "      <td>1</td>\n",
              "      <td>0</td>\n",
              "      <td>0</td>\n",
              "    </tr>\n",
              "  </tbody>\n",
              "</table>\n",
              "</div>"
            ],
            "text/plain": [
              "         gameId  playId gameClock  ...  Position_RB Position_TE  Position_WR\n",
              "211  2018090600      75  15:00:00  ...            0           0            1\n",
              "212  2018090600      75  15:00:00  ...            0           0            1\n",
              "214  2018090600      75  15:00:00  ...            0           1            0\n",
              "215  2018090600      75  15:00:00  ...            0           0            0\n",
              "535  2018090600     146  13:10:00  ...            1           0            0\n",
              "\n",
              "[5 rows x 35 columns]"
            ]
          },
          "metadata": {
            "tags": []
          },
          "execution_count": 19
        }
      ]
    },
    {
      "cell_type": "code",
      "metadata": {
        "id": "_BZE4Ch3ntXG"
      },
      "source": [
        "filter_df = filter_df[(filter_df.position != 'FB') & (filter_df.position != 'HB') & (filter_df.position != 'RB')]"
      ],
      "execution_count": 20,
      "outputs": []
    },
    {
      "cell_type": "code",
      "metadata": {
        "id": "7duJvCpARzGU",
        "colab": {
          "base_uri": "https://localhost:8080/"
        },
        "outputId": "95d955c1-06aa-44fd-8c66-728bf9f37d9d"
      },
      "source": [
        "# first train then grab a test accuracy to report\n",
        "# predictors = filter_df[['defendersInTheBox', 's', 'a', 'distanceFromQB', 'angleToQB', 'targetedReceiver',\n",
        "#                         'Position_TE', 'Position_WR', 'openness']]\n",
        "predictors = filter_df[['openness', 'targetedReceiver', 's', 'a', 'defendersInTheBox', 'distanceFromQB', 'angleToQB']]\n",
        "response = np.array(predictors.targetedReceiver)\n",
        "predictors.drop('targetedReceiver', axis=1, inplace=True)"
      ],
      "execution_count": 21,
      "outputs": [
        {
          "output_type": "stream",
          "text": [
            "/usr/local/lib/python3.6/dist-packages/pandas/core/frame.py:4174: SettingWithCopyWarning: \n",
            "A value is trying to be set on a copy of a slice from a DataFrame\n",
            "\n",
            "See the caveats in the documentation: https://pandas.pydata.org/pandas-docs/stable/user_guide/indexing.html#returning-a-view-versus-a-copy\n",
            "  errors=errors,\n"
          ],
          "name": "stderr"
        }
      ]
    },
    {
      "cell_type": "code",
      "metadata": {
        "colab": {
          "base_uri": "https://localhost:8080/"
        },
        "id": "amCTYlUHrnvF",
        "outputId": "fcbb2f54-61bf-4eee-a143-27e3059b11f4"
      },
      "source": [
        "len(predictors)"
      ],
      "execution_count": 22,
      "outputs": [
        {
          "output_type": "execute_result",
          "data": {
            "text/plain": [
              "61916"
            ]
          },
          "metadata": {
            "tags": []
          },
          "execution_count": 22
        }
      ]
    },
    {
      "cell_type": "code",
      "metadata": {
        "id": "hWdNxP9OSX4g"
      },
      "source": [
        "split = trainSets(predictors, response)\n",
        "x_train = split[0]\n",
        "x_test = split[1]\n",
        "y_train = split[2]\n",
        "y_test = split[3]\n",
        "\n",
        "# TEST WITH NO RUNNING BACKS AND LESS VARIABLES"
      ],
      "execution_count": 23,
      "outputs": []
    },
    {
      "cell_type": "code",
      "metadata": {
        "id": "68L5DkWKSbu8",
        "colab": {
          "base_uri": "https://localhost:8080/"
        },
        "outputId": "440b7188-1566-44bc-bda7-941a1c05c28a"
      },
      "source": [
        "rf = RFClassifier()\n",
        "rf_model = rf.randomForestClassifier(x_train, y_train, x_test)\n",
        "\n",
        "positive_preds = [x[1] for x in rf_model[1]]\n",
        "round_pos_preds = np.rint(positive_preds)\n",
        "\n",
        "print(\"Train Accuracy:\")\n",
        "print(rf.rfTrainAccuracy(y_train, round_pos_preds))\n",
        "\n",
        "positive_preds = [x[1] for x in rf_model[2]]\n",
        "round_pos_preds = np.rint(positive_preds)\n",
        "\n",
        "print(\"Test Accuracy:\")\n",
        "print(rf.rfTestAccuracy(y_test, round_pos_preds))\n",
        "\n",
        "print(\"Feature Importance:\")\n",
        "print(predictors.columns)\n",
        "print(rf.rfFeatureImportance(rf_model[0]))"
      ],
      "execution_count": 24,
      "outputs": [
        {
          "output_type": "stream",
          "text": [
            "Train Accuracy:\n",
            "0.9999769271590411\n",
            "Test Accuracy:\n",
            "0.7926783310901749\n",
            "Feature Importance:\n",
            "Index(['openness', 's', 'a', 'defendersInTheBox', 'distanceFromQB',\n",
            "       'angleToQB'],\n",
            "      dtype='object')\n",
            "[0.17622478 0.18732343 0.18547678 0.04967572 0.21126904 0.19003025]\n"
          ],
          "name": "stdout"
        }
      ]
    },
    {
      "cell_type": "code",
      "metadata": {
        "id": "c0Uis2_l03ld",
        "colab": {
          "base_uri": "https://localhost:8080/",
          "height": 296
        },
        "outputId": "cfd036cc-1ca4-4e52-81e9-d21bc6b53370"
      },
      "source": [
        "plot_roc_curve(rf_model[0], x_test, y_test)"
      ],
      "execution_count": 25,
      "outputs": [
        {
          "output_type": "execute_result",
          "data": {
            "text/plain": [
              "<sklearn.metrics._plot.roc_curve.RocCurveDisplay at 0x7f053fe88828>"
            ]
          },
          "metadata": {
            "tags": []
          },
          "execution_count": 25
        },
        {
          "output_type": "display_data",
          "data": {
            "image/png": "[encoded data removed]",
            "text/plain": [
              "<Figure size 432x288 with 1 Axes>"
            ]
          },
          "metadata": {
            "tags": [],
            "needs_background": "light"
          }
        }
      ]
    },
    {
      "cell_type": "code",
      "metadata": {
        "id": "oZGzRM9KUbEP",
        "colab": {
          "base_uri": "https://localhost:8080/",
          "height": 460
        },
        "outputId": "57c9a8e8-9604-46cb-a0ef-d1a5e71b5397"
      },
      "source": [
        "feat_imp = pd.DataFrame(predictors.columns, rf.rfFeatureImportance(rf_model[0])).reset_index()\n",
        "feat_imp.columns = ['Importance', 'Feature']\n",
        "\n",
        "import seaborn as sns\n",
        "import matplotlib.pyplot as plt\n",
        "\n",
        "sns.set_theme(style=\"whitegrid\")\n",
        "g = sns.barplot(x=\"Feature\", y=\"Importance\", data=feat_imp)\n",
        "g.set_xticklabels(g.get_xticklabels(), rotation=45)"
      ],
      "execution_count": 28,
      "outputs": [
        {
          "output_type": "execute_result",
          "data": {
            "text/plain": [
              "[Text(0, 0, 'openness'),\n",
              " Text(0, 0, 's'),\n",
              " Text(0, 0, 'a'),\n",
              " Text(0, 0, 'defendersInTheBox'),\n",
              " Text(0, 0, 'distanceFromQB'),\n",
              " Text(0, 0, 'angleToQB')]"
            ]
          },
          "metadata": {
            "tags": []
          },
          "execution_count": 28
        },
        {
          "output_type": "display_data",
          "data": {
            "image/png": "[encoded data removed]",
            "text/plain": [
              "<Figure size 432x288 with 1 Axes>"
            ]
          },
          "metadata": {
            "tags": []
          }
        }
      ]
    },
    {
      "cell_type": "code",
      "metadata": {
        "id": "Zd_pS6gYAYBk",
        "colab": {
          "base_uri": "https://localhost:8080/",
          "height": 541
        },
        "outputId": "1b8685ca-01b8-4be5-996e-ea5f202309ed"
      },
      "source": [
        "predictors = filter_df[['defendersInTheBox', 's', 'a', 'distanceFromQB', 'angleToQB', 'targetedReceiver',\n",
        "                        'Position_FB', 'Position_HB', 'Position_RB', 'Position_TE', 'Position_WR', 'openness']]\n",
        "predictors.dropna(inplace=True)\n",
        "response = np.array(predictors.targetedReceiver)\n",
        "predictors.reset_index(inplace=True)\n",
        "predictors = predictors[['defendersInTheBox', 's', 'a', 'distanceFromQB', 'angleToQB',\n",
        "                         'openness']]\n",
        "display(predictors,\n",
        "        response)"
      ],
      "execution_count": 32,
      "outputs": [
        {
          "output_type": "stream",
          "text": [
            "/usr/local/lib/python3.6/dist-packages/ipykernel_launcher.py:3: SettingWithCopyWarning: \n",
            "A value is trying to be set on a copy of a slice from a DataFrame\n",
            "\n",
            "See the caveats in the documentation: https://pandas.pydata.org/pandas-docs/stable/user_guide/indexing.html#returning-a-view-versus-a-copy\n",
            "  This is separate from the ipykernel package so we can avoid doing imports until\n"
          ],
          "name": "stderr"
        },
        {
          "output_type": "display_data",
          "data": {
            "text/html": [
              "<div>\n",
              "<style scoped>\n",
              "    .dataframe tbody tr th:only-of-type {\n",
              "        vertical-align: middle;\n",
              "    }\n",
              "\n",
              "    .dataframe tbody tr th {\n",
              "        vertical-align: top;\n",
              "    }\n",
              "\n",
              "    .dataframe thead th {\n",
              "        text-align: right;\n",
              "    }\n",
              "</style>\n",
              "<table border=\"1\" class=\"dataframe\">\n",
              "  <thead>\n",
              "    <tr style=\"text-align: right;\">\n",
              "      <th></th>\n",
              "      <th>defendersInTheBox</th>\n",
              "      <th>s</th>\n",
              "      <th>a</th>\n",
              "      <th>distanceFromQB</th>\n",
              "      <th>angleToQB</th>\n",
              "      <th>openness</th>\n",
              "    </tr>\n",
              "  </thead>\n",
              "  <tbody>\n",
              "    <tr>\n",
              "      <th>0</th>\n",
              "      <td>7.0</td>\n",
              "      <td>3.11</td>\n",
              "      <td>6.67</td>\n",
              "      <td>24.009259</td>\n",
              "      <td>-49.036342</td>\n",
              "      <td>0.847541</td>\n",
              "    </tr>\n",
              "    <tr>\n",
              "      <th>1</th>\n",
              "      <td>7.0</td>\n",
              "      <td>6.35</td>\n",
              "      <td>1.21</td>\n",
              "      <td>15.824563</td>\n",
              "      <td>-29.448491</td>\n",
              "      <td>0.799221</td>\n",
              "    </tr>\n",
              "    <tr>\n",
              "      <th>2</th>\n",
              "      <td>7.0</td>\n",
              "      <td>6.21</td>\n",
              "      <td>2.68</td>\n",
              "      <td>14.297178</td>\n",
              "      <td>22.277693</td>\n",
              "      <td>0.538622</td>\n",
              "    </tr>\n",
              "    <tr>\n",
              "      <th>3</th>\n",
              "      <td>7.0</td>\n",
              "      <td>5.20</td>\n",
              "      <td>1.12</td>\n",
              "      <td>8.207667</td>\n",
              "      <td>16.491973</td>\n",
              "      <td>0.45752</td>\n",
              "    </tr>\n",
              "    <tr>\n",
              "      <th>4</th>\n",
              "      <td>7.0</td>\n",
              "      <td>7.01</td>\n",
              "      <td>0.21</td>\n",
              "      <td>13.852310</td>\n",
              "      <td>-62.436050</td>\n",
              "      <td>0.477303</td>\n",
              "    </tr>\n",
              "    <tr>\n",
              "      <th>...</th>\n",
              "      <td>...</td>\n",
              "      <td>...</td>\n",
              "      <td>...</td>\n",
              "      <td>...</td>\n",
              "      <td>...</td>\n",
              "      <td>...</td>\n",
              "    </tr>\n",
              "    <tr>\n",
              "      <th>61911</th>\n",
              "      <td>4.0</td>\n",
              "      <td>7.79</td>\n",
              "      <td>0.55</td>\n",
              "      <td>24.151135</td>\n",
              "      <td>-42.063053</td>\n",
              "      <td>0.52353</td>\n",
              "    </tr>\n",
              "    <tr>\n",
              "      <th>61912</th>\n",
              "      <td>6.0</td>\n",
              "      <td>1.25</td>\n",
              "      <td>1.95</td>\n",
              "      <td>16.603668</td>\n",
              "      <td>-21.295182</td>\n",
              "      <td>0.458735</td>\n",
              "    </tr>\n",
              "    <tr>\n",
              "      <th>61913</th>\n",
              "      <td>6.0</td>\n",
              "      <td>8.97</td>\n",
              "      <td>1.47</td>\n",
              "      <td>28.158878</td>\n",
              "      <td>-28.185006</td>\n",
              "      <td>0.275623</td>\n",
              "    </tr>\n",
              "    <tr>\n",
              "      <th>61914</th>\n",
              "      <td>6.0</td>\n",
              "      <td>6.16</td>\n",
              "      <td>4.42</td>\n",
              "      <td>22.203903</td>\n",
              "      <td>-19.112256</td>\n",
              "      <td>0.972019</td>\n",
              "    </tr>\n",
              "    <tr>\n",
              "      <th>61915</th>\n",
              "      <td>6.0</td>\n",
              "      <td>7.45</td>\n",
              "      <td>0.85</td>\n",
              "      <td>11.889575</td>\n",
              "      <td>-27.772017</td>\n",
              "      <td>1</td>\n",
              "    </tr>\n",
              "  </tbody>\n",
              "</table>\n",
              "<p>61916 rows × 6 columns</p>\n",
              "</div>"
            ],
            "text/plain": [
              "       defendersInTheBox     s     a  distanceFromQB  angleToQB  openness\n",
              "0                    7.0  3.11  6.67       24.009259 -49.036342  0.847541\n",
              "1                    7.0  6.35  1.21       15.824563 -29.448491  0.799221\n",
              "2                    7.0  6.21  2.68       14.297178  22.277693  0.538622\n",
              "3                    7.0  5.20  1.12        8.207667  16.491973   0.45752\n",
              "4                    7.0  7.01  0.21       13.852310 -62.436050  0.477303\n",
              "...                  ...   ...   ...             ...        ...       ...\n",
              "61911                4.0  7.79  0.55       24.151135 -42.063053   0.52353\n",
              "61912                6.0  1.25  1.95       16.603668 -21.295182  0.458735\n",
              "61913                6.0  8.97  1.47       28.158878 -28.185006  0.275623\n",
              "61914                6.0  6.16  4.42       22.203903 -19.112256  0.972019\n",
              "61915                6.0  7.45  0.85       11.889575 -27.772017         1\n",
              "\n",
              "[61916 rows x 6 columns]"
            ]
          },
          "metadata": {
            "tags": []
          }
        },
        {
          "output_type": "display_data",
          "data": {
            "text/plain": [
              "array([1, 0, 0, ..., 1, 0, 0])"
            ]
          },
          "metadata": {
            "tags": []
          }
        }
      ]
    },
    {
      "cell_type": "code",
      "metadata": {
        "id": "Uc711COl7iht"
      },
      "source": [
        "rf = RFClassifier()\n",
        "rf_model = rf.randomForestClassifier(predictors, response)"
      ],
      "execution_count": 33,
      "outputs": []
    },
    {
      "cell_type": "code",
      "metadata": {
        "id": "EQ62DI074pGF"
      },
      "source": [
        "full_model = rf_model[0]"
      ],
      "execution_count": 34,
      "outputs": []
    },
    {
      "cell_type": "code",
      "metadata": {
        "id": "41JfPsZz4pRX"
      },
      "source": [
        "positive_preds = [x[1] for x in rf_model[1]]"
      ],
      "execution_count": 35,
      "outputs": []
    },
    {
      "cell_type": "code",
      "metadata": {
        "id": "XoxsJIlN-tiz",
        "colab": {
          "base_uri": "https://localhost:8080/"
        },
        "outputId": "fe6e8eab-c3bd-40cd-81f4-43542ddfacb2"
      },
      "source": [
        "positive_preds[:25]"
      ],
      "execution_count": 36,
      "outputs": [
        {
          "output_type": "execute_result",
          "data": {
            "text/plain": [
              "[0.92,\n",
              " 0.1,\n",
              " 0.06,\n",
              " 0.13,\n",
              " 0.07,\n",
              " 0.08,\n",
              " 0.66,\n",
              " 0.02,\n",
              " 0.13,\n",
              " 0.09,\n",
              " 0.78,\n",
              " 0.15,\n",
              " 0.13,\n",
              " 0.02,\n",
              " 0.05,\n",
              " 0.07,\n",
              " 0.15,\n",
              " 0.82,\n",
              " 0.24,\n",
              " 0.08,\n",
              " 0.24,\n",
              " 0.04,\n",
              " 0.08,\n",
              " 0.12,\n",
              " 0.84]"
            ]
          },
          "metadata": {
            "tags": []
          },
          "execution_count": 36
        }
      ]
    },
    {
      "cell_type": "code",
      "metadata": {
        "id": "egpHXmWv8pMm",
        "colab": {
          "base_uri": "https://localhost:8080/"
        },
        "outputId": "e92ca774-f020-4696-c3c0-be7bea359b77"
      },
      "source": [
        "round_pos_preds = np.rint(positive_preds)\n",
        "round_pos_preds"
      ],
      "execution_count": 37,
      "outputs": [
        {
          "output_type": "execute_result",
          "data": {
            "text/plain": [
              "array([1., 0., 0., ..., 1., 0., 0.])"
            ]
          },
          "metadata": {
            "tags": []
          },
          "execution_count": 37
        }
      ]
    },
    {
      "cell_type": "code",
      "metadata": {
        "id": "HjDsQtZi86qm",
        "colab": {
          "base_uri": "https://localhost:8080/"
        },
        "outputId": "c4fe589f-ebb1-41ed-e8c1-96a892bb95b2"
      },
      "source": [
        "rf = RFClassifier()\n",
        "rf.rfTrainAccuracy(response, round_pos_preds)\n",
        "# test acc = .81 in prior runs"
      ],
      "execution_count": 38,
      "outputs": [
        {
          "output_type": "execute_result",
          "data": {
            "text/plain": [
              "1.0"
            ]
          },
          "metadata": {
            "tags": []
          },
          "execution_count": 38
        }
      ]
    },
    {
      "cell_type": "code",
      "metadata": {
        "id": "26BpytVhaco5",
        "colab": {
          "base_uri": "https://localhost:8080/"
        },
        "outputId": "233fc0bf-d84d-4245-f1ee-15ff94f1443d"
      },
      "source": [
        "rf.rfFeatureImportance(full_model)"
      ],
      "execution_count": 39,
      "outputs": [
        {
          "output_type": "execute_result",
          "data": {
            "text/plain": [
              "array([0.04751817, 0.18792056, 0.18426762, 0.21247996, 0.19144525,\n",
              "       0.17636844])"
            ]
          },
          "metadata": {
            "tags": []
          },
          "execution_count": 39
        }
      ]
    },
    {
      "cell_type": "code",
      "metadata": {
        "id": "st5Wj3xQB88I",
        "colab": {
          "base_uri": "https://localhost:8080/",
          "height": 51
        },
        "outputId": "05c5313a-097f-49b6-dc06-f941b6c382fb"
      },
      "source": [
        "display(len(positive_preds), len(df))\n",
        "# next step... test the model on all instances in df"
      ],
      "execution_count": 40,
      "outputs": [
        {
          "output_type": "display_data",
          "data": {
            "text/plain": [
              "61916"
            ]
          },
          "metadata": {
            "tags": []
          }
        },
        {
          "output_type": "display_data",
          "data": {
            "text/plain": [
              "7488417"
            ]
          },
          "metadata": {
            "tags": []
          }
        }
      ]
    },
    {
      "cell_type": "code",
      "metadata": {
        "id": "TiYGeehMYsh3",
        "colab": {
          "base_uri": "https://localhost:8080/",
          "height": 204
        },
        "outputId": "dbfaf6be-9b8c-4661-eb7e-3cf37fd3eca7"
      },
      "source": [
        "#full_predict = df[df.position != 'QB']\n",
        "full_predict = filter_df[['defendersInTheBox', 's', 'a', 'distanceFromQB', 'angleToQB',\n",
        "                    'openness']]\n",
        "# full_predict = full_predict.dropna()\n",
        "full_predict.head()"
      ],
      "execution_count": 51,
      "outputs": [
        {
          "output_type": "execute_result",
          "data": {
            "text/html": [
              "<div>\n",
              "<style scoped>\n",
              "    .dataframe tbody tr th:only-of-type {\n",
              "        vertical-align: middle;\n",
              "    }\n",
              "\n",
              "    .dataframe tbody tr th {\n",
              "        vertical-align: top;\n",
              "    }\n",
              "\n",
              "    .dataframe thead th {\n",
              "        text-align: right;\n",
              "    }\n",
              "</style>\n",
              "<table border=\"1\" class=\"dataframe\">\n",
              "  <thead>\n",
              "    <tr style=\"text-align: right;\">\n",
              "      <th></th>\n",
              "      <th>defendersInTheBox</th>\n",
              "      <th>s</th>\n",
              "      <th>a</th>\n",
              "      <th>distanceFromQB</th>\n",
              "      <th>angleToQB</th>\n",
              "      <th>openness</th>\n",
              "    </tr>\n",
              "  </thead>\n",
              "  <tbody>\n",
              "    <tr>\n",
              "      <th>211</th>\n",
              "      <td>7.0</td>\n",
              "      <td>3.11</td>\n",
              "      <td>6.67</td>\n",
              "      <td>24.009259</td>\n",
              "      <td>-49.036342</td>\n",
              "      <td>0.847541</td>\n",
              "    </tr>\n",
              "    <tr>\n",
              "      <th>212</th>\n",
              "      <td>7.0</td>\n",
              "      <td>6.35</td>\n",
              "      <td>1.21</td>\n",
              "      <td>15.824563</td>\n",
              "      <td>-29.448491</td>\n",
              "      <td>0.799221</td>\n",
              "    </tr>\n",
              "    <tr>\n",
              "      <th>214</th>\n",
              "      <td>7.0</td>\n",
              "      <td>6.21</td>\n",
              "      <td>2.68</td>\n",
              "      <td>14.297178</td>\n",
              "      <td>22.277693</td>\n",
              "      <td>0.538622</td>\n",
              "    </tr>\n",
              "    <tr>\n",
              "      <th>536</th>\n",
              "      <td>7.0</td>\n",
              "      <td>5.20</td>\n",
              "      <td>1.12</td>\n",
              "      <td>8.207667</td>\n",
              "      <td>16.491973</td>\n",
              "      <td>0.45752</td>\n",
              "    </tr>\n",
              "    <tr>\n",
              "      <th>537</th>\n",
              "      <td>7.0</td>\n",
              "      <td>7.01</td>\n",
              "      <td>0.21</td>\n",
              "      <td>13.852310</td>\n",
              "      <td>-62.436050</td>\n",
              "      <td>0.477303</td>\n",
              "    </tr>\n",
              "  </tbody>\n",
              "</table>\n",
              "</div>"
            ],
            "text/plain": [
              "     defendersInTheBox     s     a  distanceFromQB  angleToQB  openness\n",
              "211                7.0  3.11  6.67       24.009259 -49.036342  0.847541\n",
              "212                7.0  6.35  1.21       15.824563 -29.448491  0.799221\n",
              "214                7.0  6.21  2.68       14.297178  22.277693  0.538622\n",
              "536                7.0  5.20  1.12        8.207667  16.491973   0.45752\n",
              "537                7.0  7.01  0.21       13.852310 -62.436050  0.477303"
            ]
          },
          "metadata": {
            "tags": []
          },
          "execution_count": 51
        }
      ]
    },
    {
      "cell_type": "code",
      "metadata": {
        "id": "hiiw2jsrZzH9",
        "colab": {
          "base_uri": "https://localhost:8080/"
        },
        "outputId": "d0a94499-85fa-486e-da26-983aaeccd55b"
      },
      "source": [
        "targetProb = full_model.predict_proba(full_predict)\n",
        "targetProb = np.array(targetProb)\n",
        "targetProb"
      ],
      "execution_count": 52,
      "outputs": [
        {
          "output_type": "execute_result",
          "data": {
            "text/plain": [
              "array([[0.08, 0.92],\n",
              "       [0.9 , 0.1 ],\n",
              "       [0.94, 0.06],\n",
              "       ...,\n",
              "       [0.26, 0.74],\n",
              "       [0.92, 0.08],\n",
              "       [0.85, 0.15]])"
            ]
          },
          "metadata": {
            "tags": []
          },
          "execution_count": 52
        }
      ]
    },
    {
      "cell_type": "code",
      "metadata": {
        "id": "INz5vh52bLJj"
      },
      "source": [
        "targetProb = [x[1] for x in targetProb]"
      ],
      "execution_count": 53,
      "outputs": []
    },
    {
      "cell_type": "code",
      "metadata": {
        "id": "DdhvnuhxBjyU"
      },
      "source": [
        "filter_df['targetProb'] = targetProb"
      ],
      "execution_count": 54,
      "outputs": []
    },
    {
      "cell_type": "code",
      "metadata": {
        "id": "FcWc849dmHas"
      },
      "source": [
        "filter_df.to_csv('targetProb.csv')\n",
        "# !cp data.csv \"drive/My Drive/\"\n",
        "!cp targetProb.csv 'gdrive/My Drive/BigDataBowl2021/'"
      ],
      "execution_count": null,
      "outputs": []
    },
    {
      "cell_type": "code",
      "metadata": {
        "id": "wH132yzOhz8x"
      },
      "source": [
        ""
      ],
      "execution_count": null,
      "outputs": []
    },
    {
      "cell_type": "code",
      "metadata": {
        "id": "SmdFfETVijuB"
      },
      "source": [
        "# qb_df = pd.read_csv(\"gdrive/My Drive/BigDataBowl2021/qb_data.csv\", index_col=0)\n",
        "# qb_df.head()"
      ],
      "execution_count": null,
      "outputs": []
    },
    {
      "cell_type": "code",
      "metadata": {
        "id": "h7o_nzG-jvkC"
      },
      "source": [
        "# qb_df = qb_df[['gameId', 'playId', 'displayName_QB']]\n",
        "# df.merge(qb_df,\n",
        "#          how='left',\n",
        "#          on=['gameId', 'playId'])"
      ],
      "execution_count": null,
      "outputs": []
    }
  ]
}